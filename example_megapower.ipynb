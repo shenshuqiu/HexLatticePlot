{
 "cells": [
  {
   "cell_type": "code",
   "execution_count": 79,
   "metadata": {},
   "outputs": [],
   "source": [
    "from pathlib import Path\n",
    "from pprint import pprint\n",
    "import pickle as pkl\n",
    "from typing import Literal\n",
    "\n",
    "import matplotlib.pylab as plt\n",
    "from matplotlib.axes._axes import Axes\n",
    "\n",
    "from HexLattice import HexCell, HexLattice, Coordinate, AxialCoordinate, DoubleWidthCoordinate, PlotConfig, ValidDirections"
   ]
  },
  {
   "cell_type": "markdown",
   "metadata": {},
   "source": [
    "## Read data from pkl"
   ]
  },
  {
   "cell_type": "code",
   "execution_count": 80,
   "metadata": {},
   "outputs": [],
   "source": [
    "result_path =  Path('examples\\mega_power_diff.pkl')\n",
    "with open(result_path, 'rb') as f:\n",
    "    diff = pkl.load(f)"
   ]
  },
  {
   "cell_type": "markdown",
   "metadata": {},
   "source": [
    "## Generate Megapower HexLattice"
   ]
  },
  {
   "cell_type": "code",
   "execution_count": 81,
   "metadata": {},
   "outputs": [],
   "source": [
    "X_MAX = 46\n",
    "def snake_coord(start: DoubleWidthCoordinate, first_dirction: Literal['bottom-right', 'right']) -> list[AxialCoordinate]:\n",
    "    res_list = list()\n",
    "    next_coord = start\n",
    "    next_dirction: Literal['bottom-right', 'right'] = first_dirction\n",
    "    \n",
    "    while(next_coord.x <= X_MAX):\n",
    "        res_list.append(next_coord)\n",
    "        \n",
    "        # get next coord\n",
    "        last_coord = next_coord\n",
    "        next_coord = last_coord.get_new_by_moving(next_dirction, 1)\n",
    "        \n",
    "        # get next direction\n",
    "        last_dirction = next_dirction\n",
    "        next_dirction = 'bottom-right' if last_dirction == 'right' else 'right'\n",
    "        \n",
    "        \n",
    "    \n",
    "    return res_list"
   ]
  },
  {
   "cell_type": "code",
   "execution_count": 82,
   "metadata": {},
   "outputs": [],
   "source": [
    "megapower_list = list()\n",
    "bottom_right = [DoubleWidthCoordinate(0, 2), DoubleWidthCoordinate(0, 0), DoubleWidthCoordinate(0, -2)]\n",
    "right = [DoubleWidthCoordinate(1+3*i, -3-i)  for i in range(16)]\n",
    "\n",
    "for br in bottom_right:\n",
    "    megapower_list.extend(snake_coord(br, 'bottom-right'))\n",
    "for r in right:\n",
    "    megapower_list.extend(snake_coord(r, 'right'))"
   ]
  },
  {
   "cell_type": "code",
   "execution_count": 83,
   "metadata": {},
   "outputs": [],
   "source": [
    "hl = HexLattice([HexCell(c) for c in megapower_list])\n",
    "for hex_cell in hl.HexCells:\n",
    "    hex_cell.text = f'({hex_cell.double_width.x},{hex_cell.double_width.z})'"
   ]
  },
  {
   "cell_type": "markdown",
   "metadata": {},
   "source": [
    "## Write data into HexCells"
   ]
  },
  {
   "cell_type": "code",
   "execution_count": 84,
   "metadata": {},
   "outputs": [],
   "source": [
    "hl_pod = HexLattice(sorted(hl.HexCells, key=lambda x: (x.double_width.x, x.double_width.z)))\n",
    "for i, hex_cell in enumerate(hl_pod.HexCells):\n",
    "    hex_cell.value = diff['pod'][i] * 100"
   ]
  },
  {
   "cell_type": "code",
   "execution_count": 85,
   "metadata": {},
   "outputs": [],
   "source": [
    "hl_lin = HexLattice(sorted(hl.HexCells, key=lambda x: (x.double_width.x, x.double_width.z)))\n",
    "for i, hex_cell in enumerate(hl_lin.HexCells):\n",
    "    hex_cell.value = diff['lin'][i] * 100"
   ]
  },
  {
   "cell_type": "markdown",
   "metadata": {},
   "source": [
    "## Plot"
   ]
  },
  {
   "cell_type": "code",
   "execution_count": 86,
   "metadata": {},
   "outputs": [],
   "source": [
    "pc = PlotConfig('Relative Error of POD-RBF Power Prediction')\n",
    "pc.image_root_dir = Path('examples/plot')\n",
    "pc.text_size = 7\n",
    "pc.image_type = 'svg'\n",
    "pc.plot_style = 'bmh'"
   ]
  },
  {
   "cell_type": "code",
   "execution_count": 87,
   "metadata": {},
   "outputs": [
    {
     "name": "stderr",
     "output_type": "stream",
     "text": [
      "C:\\Users\\61012\\AppData\\Local\\Temp\\ipykernel_52556\\1344744815.py:10: UserWarning: set_ticklabels() should only be used with a fixed number of ticks, i.e. after set_ticks() or using a FixedLocator.\n",
      "  cbar.set_ticklabels([f'{t}\\%' for t in c_ticks])\n"
     ]
    }
   ],
   "source": [
    "fig = plt.figure(figsize=(12, 12))\n",
    "axes: Axes = fig.subplots()\n",
    "hl_pod.plot_circle(pc, axes)\n",
    "\n",
    "cb_ax = fig.add_axes([0.85, 0.2, 0.03, 0.6])\n",
    "cbar = fig.colorbar(hl_pod.mappable(pc), cb_ax)\n",
    "cbar.ax.tick_params(labelsize=15)\n",
    "cbar.set_label('Relative Error')\n",
    "c_ticks = cbar.get_ticks()\n",
    "cbar.set_ticklabels([f'{t}\\%' for t in c_ticks])\n",
    "\n",
    "fig.savefig(pc.image_path)\n",
    "plt.close()"
   ]
  },
  {
   "cell_type": "code",
   "execution_count": 88,
   "metadata": {},
   "outputs": [],
   "source": [
    "pc = PlotConfig('Relative Error of Linear Interpolation Power Prediction')\n",
    "pc.image_root_dir = Path('examples/plot')\n",
    "pc.text_size = 7\n",
    "pc.image_type = 'svg'\n",
    "pc.plot_style = 'bmh'"
   ]
  },
  {
   "cell_type": "code",
   "execution_count": 89,
   "metadata": {},
   "outputs": [
    {
     "name": "stderr",
     "output_type": "stream",
     "text": [
      "C:\\Users\\61012\\AppData\\Local\\Temp\\ipykernel_52556\\933998723.py:10: UserWarning: set_ticklabels() should only be used with a fixed number of ticks, i.e. after set_ticks() or using a FixedLocator.\n",
      "  cbar.set_ticklabels([f'{t}\\%' for t in c_ticks])\n"
     ]
    }
   ],
   "source": [
    "fig = plt.figure(figsize=(12, 12))\n",
    "axes: Axes = fig.subplots()\n",
    "hl_lin.plot_circle(pc, axes)\n",
    "\n",
    "cb_ax = fig.add_axes([0.85, 0.2, 0.03, 0.6])\n",
    "cbar = fig.colorbar(hl_lin.mappable(pc), cb_ax)\n",
    "cbar.ax.tick_params(labelsize=15)\n",
    "cbar.set_label('Relative Error')\n",
    "c_ticks = cbar.get_ticks()\n",
    "cbar.set_ticklabels([f'{t}\\%' for t in c_ticks])\n",
    "\n",
    "fig.savefig(pc.image_path)\n",
    "plt.close()"
   ]
  }
 ],
 "metadata": {
  "kernelspec": {
   "display_name": ".venv",
   "language": "python",
   "name": "python3"
  },
  "language_info": {
   "codemirror_mode": {
    "name": "ipython",
    "version": 3
   },
   "file_extension": ".py",
   "mimetype": "text/x-python",
   "name": "python",
   "nbconvert_exporter": "python",
   "pygments_lexer": "ipython3",
   "version": "3.10.11"
  }
 },
 "nbformat": 4,
 "nbformat_minor": 2
}
